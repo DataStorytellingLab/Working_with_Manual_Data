{
  "nbformat": 4,
  "nbformat_minor": 0,
  "metadata": {
    "colab": {
      "provenance": [],
      "include_colab_link": true
    },
    "kernelspec": {
      "name": "python3",
      "display_name": "Python 3"
    },
    "language_info": {
      "name": "python"
    }
  },
  "cells": [
    {
      "cell_type": "markdown",
      "metadata": {
        "id": "view-in-github",
        "colab_type": "text"
      },
      "source": [
        "<a href=\"https://colab.research.google.com/github/john-decker/Dutch_Colonial_Research/blob/main/Initial_DB_Creation.ipynb\" target=\"_parent\"><img src=\"https://colab.research.google.com/assets/colab-badge.svg\" alt=\"Open In Colab\"/></a>"
      ]
    },
    {
      "cell_type": "code",
      "execution_count": 1,
      "metadata": {
        "id": "YN0orvvOOnxK"
      },
      "outputs": [],
      "source": [
        "#Begin process for creating a simple sqllite DB in python by importing needed modules\n",
        "\n",
        "import csv\n",
        "\n",
        "import sqlite3\n"
      ]
    },
    {
      "cell_type": "code",
      "source": [
        "#creat a connection\n",
        "conn = sqlite3.connect(\"Dutch_Colonial_DB\") #NOTE: if the DB doesn't already exist, this command will create it.\n"
      ],
      "metadata": {
        "id": "dytcUIptTN6E"
      },
      "execution_count": 2,
      "outputs": []
    },
    {
      "cell_type": "markdown",
      "source": [
        "##Creating Tables in the Database\n",
        "Once a database exists, we need to build out the elements that represent our data model (e.g. our entities). Each table must be represented as we worked out when creating the .csv files.\n",
        "\n",
        "NOTE: for this particular database, we are considering all of the data to be text. If we had integer or floating point data, we would use the appropriate data types for them.\n",
        "\n",
        "Consult the documentation for more on [SQLLite in Python.](https://docs.python.org/3.9/library/sqlite3.html)"
      ],
      "metadata": {
        "id": "G5niYrFoVxKV"
      }
    },
    {
      "cell_type": "code",
      "source": [
        "#create a cursor to access the DB\n",
        "cursor = conn.cursor()\n",
        "\n",
        "# create all of the tables needed for the data model in the DB\n",
        "\n",
        "cursor.execute('''CREATE TABLE Person (\n",
        "               personID text,\n",
        "               lastName text,\n",
        "               firstName text,\n",
        "               gender text,\n",
        "               statusID text,\n",
        "               ethnicityID text\n",
        "               )''')\n",
        "\n",
        "cursor.execute('''CREATE TABLE Ethnicity (\n",
        "               ethnicityID text,\n",
        "               ethnicityDescription text\n",
        "               )''')\n",
        "\n",
        "cursor.execute('''CREATE TABLE Status (\n",
        "               statusID text,\n",
        "               statusDescription text\n",
        "               )''')\n",
        "\n",
        "cursor.execute('''CREATE TABLE Participation_Type (\n",
        "               participationID text,\n",
        "               roleDescription text\n",
        "               )''')\n",
        "\n",
        "cursor.execute('''CREATE TABLE Person_to_Session (\n",
        "               sessionDetailsID text,\n",
        "               personID text,\n",
        "               participationID text\n",
        "               )''')\n",
        "\n",
        "cursor.execute('''CREATE TABLE Session_Record (\n",
        "               sessionRecordID text,\n",
        "               bookNumber text,\n",
        "               pageNumber text,\n",
        "               dataEntryClerk text,\n",
        "               dataVerificationClerk text,\n",
        "               dateEntered text,\n",
        "               fullMinutesEteredBy text\n",
        "               )''')\n",
        "\n",
        "cursor.execute('''CREATE TABLE Session_Details (\n",
        "               sessionDetailsID text,\n",
        "               sessionRecordID text,\n",
        "               sessionTypeID text,\n",
        "               minutesText text\n",
        "               )''')\n",
        "\n",
        "cursor.execute('''CREATE TABLE Session_Action (\n",
        "               actionID text,\n",
        "               sessionDetailsID text,\n",
        "               description text,\n",
        "               amount text\n",
        "               )''')\n",
        "\n",
        "cursor.execute('''CREATE TABLE Session_Type (\n",
        "               sessionTypeID text,\n",
        "               description text\n",
        "               )''')\n",
        "\n",
        "print(\"Tables Created\")"
      ],
      "metadata": {
        "colab": {
          "base_uri": "https://localhost:8080/"
        },
        "collapsed": true,
        "id": "ORhZQKe-PG4T",
        "outputId": "3ba5941a-57b1-4f6d-c1e2-c24cb12c06c0"
      },
      "execution_count": 3,
      "outputs": [
        {
          "output_type": "stream",
          "name": "stdout",
          "text": [
            "Tables Created\n"
          ]
        }
      ]
    },
    {
      "cell_type": "markdown",
      "source": [
        "##Importing Data Into the DB\n",
        "Once a simple database has been created and the entities for the model are present, it is necessary to populate the tables with data. Here, we are using the .csv files that we created to represent the various parts of our data model.\n",
        "\n",
        "We must be certain to import the csv files into Colab's data manager so that the files are available for the next steps.\n",
        "\n",
        "NOTE: the number of variables associated with each table is not the same for all of the tables we are inputting. This means that we will have to write specific code for each to ensure that the population process proceeds correctly. While we could break them up into lists of entities with the same number of elements (e.g. ethnicity and status), the code block below will treat each individually so that the mechanics are as clear as possible."
      ],
      "metadata": {
        "id": "VBXziHmOVFyj"
      }
    },
    {
      "cell_type": "code",
      "source": [
        "#Start work for importing data\n",
        "#provide paths to each csv\n",
        "data_path_person = '/content/Person.csv'\n",
        "data_path_ethnicity = '/content/Ethnicity.csv'\n",
        "data_path_status = '/content/Status.csv'\n",
        "data_path_participation = '/content/Participation_Type.csv'\n",
        "data_path_person_session = '/content/Person_to_Session.csv'\n",
        "data_path_session_record = '/content/Session_Record.csv'\n",
        "data_path_session_details = '/content/Session_Details.csv'\n",
        "data_path_session_action = '/content/Session_Action.csv'\n",
        "data_path_session_type = '/content/Session_Type.csv'"
      ],
      "metadata": {
        "id": "616ENMjQUiuT"
      },
      "execution_count": 4,
      "outputs": []
    },
    {
      "cell_type": "code",
      "source": [
        "#Open each .csv file, loop over the contents, and populate each corresponding table\n",
        "\n",
        "#The .execute() method allows us to pass in an INSERT command, specify the number of variables, and provide the data\n",
        "\n",
        "with open(data_path_person, 'r') as csv_obj:\n",
        "    reader = csv.reader(csv_obj)\n",
        "    next(reader, None) #\"turns off\" the .csv file's header so that the variable names are not imported\n",
        "    for row in reader:\n",
        "        cursor.execute('INSERT INTO Person VALUES (?,?,?,?,?,?)', row)\n",
        "\n",
        "with open(data_path_ethnicity, 'r') as csv_obj:\n",
        "    reader = csv.reader(csv_obj)\n",
        "    next(reader, None)\n",
        "    for row in reader:\n",
        "        cursor.execute('INSERT INTO Ethnicity VALUES (?,?)', row)\n",
        "\n",
        "with open(data_path_status, 'r') as csv_obj:\n",
        "    reader = csv.reader(csv_obj)\n",
        "    next(reader, None) #\"turns off\" the .csv file's header so that the variable names are not imported\n",
        "    for row in reader:\n",
        "        cursor.execute('INSERT INTO Status VALUES (?,?)', row)\n",
        "\n",
        "with open(data_path_participation, 'r') as csv_obj:\n",
        "    reader = csv.reader(csv_obj)\n",
        "    next(reader, None) #\"turns off\" the .csv file's header so that the variable names are not imported\n",
        "    for row in reader:\n",
        "        cursor.execute('INSERT INTO Participation_Type VALUES (?,?)', row)\n",
        "\n",
        "with open(data_path_person_session, 'r') as csv_obj:\n",
        "    reader = csv.reader(csv_obj)\n",
        "    next(reader, None) #\"turns off\" the .csv file's header so that the variable names are not imported\n",
        "    for row in reader:\n",
        "        cursor.execute('INSERT INTO Person_to_Session VALUES (?,?,?)', row)\n",
        "\n",
        "with open(data_path_session_record, 'r') as csv_obj:\n",
        "    reader = csv.reader(csv_obj)\n",
        "    next(reader, None) #\"turns off\" the .csv file's header so that the variable names are not imported\n",
        "    for row in reader:\n",
        "        cursor.execute('INSERT INTO Session_Record VALUES (?,?,?,?,?,?,?)', row)\n",
        "\n",
        "with open(data_path_session_details, 'r') as csv_obj:\n",
        "    reader = csv.reader(csv_obj)\n",
        "    next(reader, None) #\"turns off\" the .csv file's header so that the variable names are not imported\n",
        "    for row in reader:\n",
        "        cursor.execute('INSERT INTO Session_Details VALUES (?,?,?,?)', row)\n",
        "\n",
        "with open(data_path_session_action, 'r') as csv_obj:\n",
        "    reader = csv.reader(csv_obj)\n",
        "    next(reader, None) #\"turns off\" the .csv file's header so that the variable names are not imported\n",
        "    for row in reader:\n",
        "        cursor.execute('INSERT INTO Session_Action VALUES (?,?,?,?)', row)\n",
        "\n",
        "with open(data_path_session_type, 'r') as csv_obj:\n",
        "    reader = csv.reader(csv_obj)\n",
        "    next(reader, None) #\"turns off\" the .csv file's header so that the variable names are not imported\n",
        "    for row in reader:\n",
        "        cursor.execute('INSERT INTO Session_Type VALUES (?,?)', row)\n",
        "\n",
        "print('Import process finished')"
      ],
      "metadata": {
        "colab": {
          "base_uri": "https://localhost:8080/"
        },
        "collapsed": true,
        "id": "CuTr3SBGYLz0",
        "outputId": "45cfd1cb-768a-414a-f56e-256015aef690"
      },
      "execution_count": 5,
      "outputs": [
        {
          "output_type": "stream",
          "name": "stdout",
          "text": [
            "Import process finished\n"
          ]
        }
      ]
    },
    {
      "cell_type": "markdown",
      "source": [
        "##Test Query\n",
        "To ensure that the DB has been properly created and populated, we will peform a simple query of the Person table."
      ],
      "metadata": {
        "id": "lSyZegpiRMyr"
      }
    },
    {
      "cell_type": "code",
      "source": [
        "cursor = conn.cursor()\n",
        "\n",
        "cursor.execute(\"SELECT * FROM Person\")\n",
        "results = cursor.fetchall()\n",
        "\n",
        "for result in results:\n",
        "    print(result)\n",
        "\n",
        "conn.commit()\n",
        "conn.close()"
      ],
      "metadata": {
        "colab": {
          "base_uri": "https://localhost:8080/"
        },
        "id": "VGvctmT1RFQ4",
        "outputId": "3f5b2f3d-7c78-4b34-e840-ffb6e5ee50cd",
        "collapsed": true
      },
      "execution_count": 6,
      "outputs": [
        {
          "output_type": "stream",
          "name": "stdout",
          "text": [
            "('1', 'Delavall', '', 'M', '2', '1')\n",
            "('2', 'Ten Houdt', 'Severyn', 'M', '1', '1')\n",
            "('3', 'DuBooys (Dubois)', 'Lowies (Louys)', 'M', '1', '1')\n",
            "('4', 'Blansjan', 'Matthias', 'M', '1', '1')\n",
            "('5', 'Fortune', 'Jan', 'M', '3', '1')\n",
            "('6', 'Lavall', '', 'M', '1', '1')\n",
            "('7', 'Ackerman', 'Lodowyck', 'M', '1', '1')\n",
            "('8', 'DeGraef', 'Moses', 'M', '1', '1')\n",
            "('9', 'Fisher', 'William', 'M', '1', '1')\n",
            "('10', 'Haegen', 'Bruyn', 'M', '1', '1')\n",
            "('11', 'Claesen DeWitt', 'Tierk', 'M', '1', '1')\n",
            "('12', 'Osterhoudt', 'Jan', 'M', '1', '1')\n",
            "('13', 'Tynhoudt', 'Cronelis', 'M', '1', '1')\n",
            "('14', 'Lowersen', 'Jan', 'M', '1', '1')\n",
            "('15', 'Cool', 'Pieter', 'M', '1', '1')\n",
            "('16', 'Cool', 'Leendert', 'M', '1', '1')\n",
            "('17', 'Unnamed', '', 'M', '3', '1')\n",
            "('18', 'Jansen', 'Dirck', 'M', '1', '1')\n",
            "('19', 'Grevenraedt', '', 'M', '1', '4')\n",
            "('20', 'Martensen', 'Aerdt', 'M', '1', '1')\n",
            "('21', 'Addesen', 'Anthony', 'M', '1', '1')\n",
            "('22', 'Joshensen', 'Hendrick', 'M', '1', '1')\n",
            "('23', 'Wittikar', 'Eduward', 'M', '1', '1')\n",
            "('24', 'Wynkoop', 'Cornelis', 'M', '1', '5')\n",
            "('25', 'Kerstede', 'R', 'M', '1', '5')\n",
            "('26', 'Ten Broek', 'Wessel', 'M', '1', '5')\n",
            "('27', 'Borhans', 'Jan', 'M', '1', '5')\n",
            "('28', 'Albertsen', 'Gysbert', 'M', '1', '1')\n",
            "('29', 'Sluyter', 'Claes', 'M', '1', '1')\n",
            "('30', 'Steenwyck', 'Cronelis', 'M', '1', '1')\n",
            "('31', '', 'Sakarowaen', 'M', '6', '2')\n",
            "('32', '', 'Witsirani', 'M', '6', '2')\n",
            "('33', 'Beekman', 'Hendrick', 'M', '1', '1')\n",
            "('34', 'Meyer', 'W.D.', 'M', '1', '1')\n",
            "('35', 'De la Montagne', 'W.', 'M', '5', '1')\n",
            "('36', '', 'Magota Moubis', 'M', '6', '2')\n",
            "('37', '', 'Aris Japis (Papuni)', 'M', '6', '2')\n",
            "('38', '', 'Arvarota Minck', 'M', '6', '2')\n",
            "('39', '', 'Pamire Wachin', 'M', '6', '2')\n",
            "('40', '', 'Pamietararnick', 'M', '6', '2')\n",
            "('41', '', 'Waskanarast', 'M', '6', '2')\n",
            "('42', '', 'Spanakeock Kona Wekan', 'M', '6', '2')\n",
            "('43', '', 'Ahowo Ras', 'M', '6', '2')\n",
            "('44', 'Harmonsen', 'Thoomas', 'M', '1', '1')\n",
            "('45', '', 'Mingoo', 'M', '7', '3')\n",
            "('46', 'Van Wy', 'Hendrick', 'M', '1', '1')\n",
            "('47', '', 'Anthony', 'M', '7', '3')\n",
            "('48', '', 'Susanna', 'F', '7', '3')\n",
            "('49', 'Maures', 'Cornelis', 'M', '1', '1')\n",
            "('50', 'Van Imbrogh', 'Gysbert', 'M', '1', '1')\n",
            "('51', 'Sybrands', 'Altjen', 'F', '1', '1')\n",
            "('52', 'Roeloofsen', 'Mathys', 'M', '1', '1')\n",
            "('53', 'Jochemsen', 'Hendrick', 'M', '1', '1')\n",
            "('54', 'Aerts', 'Annetjen', 'F', '1', '1')\n"
          ]
        }
      ]
    },
    {
      "cell_type": "markdown",
      "source": [
        "##Complete DB Exists\n",
        "Now that we have created the DB, created the tables needed for our data model, have imported the data from our .csv files to the tables, and have performed a test query we can save the DB so that we can use it to perform queries. To do this, chose the ```...``` indicator when you hover over ```Dutch_Colonial_DB```"
      ],
      "metadata": {
        "id": "yu7QS4OUe2bn"
      }
    }
  ]
}